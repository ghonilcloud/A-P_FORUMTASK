{
  "metadata": {
    "language_info": {
      "codemirror_mode": {
        "name": "python",
        "version": 3
      },
      "file_extension": ".py",
      "mimetype": "text/x-python",
      "name": "python",
      "nbconvert_exporter": "python",
      "pygments_lexer": "ipython3",
      "version": "3.8"
    },
    "kernelspec": {
      "name": "python",
      "display_name": "Python (Pyodide)",
      "language": "python"
    }
  },
  "nbformat_minor": 4,
  "nbformat": 4,
  "cells": [
    {
      "cell_type": "code",
      "source": "#AP_FORUMTASK_1\n\nlloyd = {\n \"name\": \"Lloyd\",\n \"homework\": [90.0,97.0,75.0,92.0],\n \"quizzes\": [88.0,40.0,94.0],\n \"tests\": [75.0,90.0]\n}\nalice = {\n \"name\": \"Alice\",\n \"homework\": [100.0, 92.0, 98.0, 100.0],\n \"quizzes\": [82.0, 83.0, 91.0],\n \"tests\": [89.0, 97.0]\n}\ntyler = {\n \"name\": \"Tyler\",\n \"homework\": [0.0, 87.0, 75.0, 22.0],\n \"quizzes\": [0.0, 75.0, 78.0],\n \"tests\": [100.0, 100]\n}\n\nstudents = [lloyd, alice, tyler]\n\ndef average(numbers):\n    total = sum(numbers)\n    total = float(total)\n    return total/len(numbers)\n\ndef get_average(student):\n    homework = average(student['homework'])\n    quizzes = average(student['quizzes'])\n    tests = average(student['tests'])\n    return (homework*0.10) + (quizzes*0.30) + (tests*0.60)\n\ndef get_letter_grade(score):\n    if score >= 90:\n        return \"A\"\n    elif score >= 80:\n        return \"B\"\n    elif score >= 70:\n        return \"C\"\n    elif score >= 60:\n        return \"D\"\n    else:\n        return \"F\"\n\ndef get_class_average(students):\n    results = []\n    results.append(get_average(lloyd))\n    results.append(get_average(alice))\n    results.append(get_average(tyler))\n    return average(results)\n\ntest1 = get_average(lloyd)\nprint(f\"Test 1: {get_letter_grade(test1)}\")\nprint(\"\")\n\ntest2 = get_class_average(students)\ntest2letter = get_letter_grade(test2)\nprint(f\"Test 2: {test2}\")\nprint(f\"Test 2 letter: {test2letter}\")\nprint(\"\")\n\nfor name in students:\n    print(f\"Name: {name['name']}\")\n    print(f\"Homework: {name['homework']}\")\n    print(f\"Quizzes: {name['quizzes']}\")\n    print(f\"Tests: {name['tests']}\")\n    print()",
      "metadata": {},
      "execution_count": null,
      "outputs": []
    },
    {
      "cell_type": "code",
      "source": "#AP_FORUMTASK_2\n\nCourseNo = [\"COP 2510\", \"EGN 3000L\", \"MAC 2281\", \"MUH 3016\", \"PHY 2048\"]\n\nDict1 = {\n    CourseNo[0]: \"Programming Concepts\",\n    CourseNo[1]: \"Foundations of Engineering Lab\",\n    CourseNo[2]: \"Calculus I\",\n    CourseNo[3]: \"Survey of Jazz\",\n    CourseNo[4]: \"General Physics I\"\n}\n\nDict2 = {\n    CourseNo[0]: \"Z. Beasley\",\n    CourseNo[1]: \"J. Anderson\",\n    CourseNo[2]: \"A. Makaryus\",\n    CourseNo[3]: \"A. Wilkins\",\n    CourseNo[4]: \"G.\"\n}\n\nDict3 = {\n    CourseNo[0]: \"MW 12:30pm - 1:45pm\",\n    CourseNo[1]: \"TR 11:00am - 12:15pm\",\n    CourseNo[2]: \"MW 9:30am - 10:45am\",\n    CourseNo[3]: \"Online Asynchronous\",\n    CourseNo[4]: \"TR 5:00pm - 6:15pm\"\n}\n\ninput = input(\"Enter a course number: \")\n\nif input in CourseNo:\n    index = CourseNo.index(input)\n    print(\"The course details are:\")\n    print(f\"Course Name: {Dict1[CourseNo[index]]}\")\n    print(f\"Instructor: {Dict2[CourseNo[index]]}\")\n    print(f\"Class Times: {Dict3[CourseNo[index]]}\")\nelse:\n    print(f\"{input} is an invalid course number.\")",
      "metadata": {},
      "execution_count": null,
      "outputs": []
    },
    {
      "cell_type": "code",
      "source": "#AP_FORUMTASK_3\n\ndays = [\"Sunday\", \"Monday\", \"Tuesday\", \"Wednesday\", \"Thursday\", \"Friday\", \"Saturday\"]\nsales = []\n\nfor x in days:\n    while True:\n        try:\n            value = float(input(f\"Enter the sales for {x}: \"))\n            if value > 0:\n                sales.append(value)\n                break\n            else:\n                print(\"Input was invalid.\")\n        except ValueError:\n            print(\"Input was invalid.\")\n\nsum = sum(sales)\nminimum = min(sales)\nmaximum = max(sales)\nsum2 = \"{:.2f}\".format(sum)\nminimum2 = \"{:.2f}\".format(minimum)\nmaximum2 = \"{:.2f}\".format(maximum)\n\nprint(f\"The total sales is: ${sum2}\")\nprint(f\"The minimum sale amount was: ${minimum2}\")\nprint(f\"The maximum sale amount was: ${maximum2}\")",
      "metadata": {},
      "execution_count": null,
      "outputs": []
    },
    {
      "cell_type": "code",
      "source": "#AP_FORUMTASK_4\n\nmorseword = {\n    \" \": \" \",\n    \",\": \"--..--\",\n    \".\": \".-.-.-\",\n    \"?\": \"..--..\",\n    \"0\": \"-----\",\n    \"1\": \".----\",\n    \"2\": \"..---\",\n    \"3\": \"...--\",\n    \"4\": \"....-\",\n    \"5\": \".....\",\n    \"6\": \"-....\",\n    \"7\": \"--...\",\n    \"8\": \"---..\",\n    \"9\": \"----.\",\n    \"A\": \".-\",\n    \"B\": \"-...\",\n    \"C\": \"-.-.\",\n    \"D\": \"-..\",\n    \"E\": \".\",\n    \"F\": \"..-.\",\n    \"G\": \"--.\",\n    \"H\": \". ...\",\n    \"I\": \". .\",\n    \"J\": \".---\",\n    \"K\": \"-.-\",\n    \"L\": \".-..\",\n    \"M\": \"--\",\n    \"N\": \"-.\",\n    \"O\": \"---\",\n    \"P\": \".---.\",\n    \"Q\": \"--.-\",\n    \"R\": \".-.\",\n    \"S\": \"...\",\n    \"T\": \"-\",\n    \"U\": \"..-\",\n    \"V\": \"...-\",\n    \"W\": \".--\",\n    \"X\": \"-..-\",\n    \"Y\": \"-.--\",\n    \"Z\": \"--..\"\n}\n\nstring = input(\"Please enter a string: \")\nstring = string.upper()\n\nstringlist = list(string)\nprint(stringlist)\nprint()\n\nfor x in stringlist: \n    if x in morseword.keys():\n        result = morseword.get(x)\n        print(result, end=\"\")",
      "metadata": {},
      "execution_count": null,
      "outputs": []
    }
  ]
}